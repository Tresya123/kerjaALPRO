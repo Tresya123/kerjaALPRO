{
 "cells": [
  {
   "cell_type": "code",
   "execution_count": 1,
   "metadata": {},
   "outputs": [
    {
     "name": "stdout",
     "output_type": "stream",
     "text": [
      "AYO HITUNG BMI KAMU!\n"
     ]
    }
   ],
   "source": [
    "1#program BMI\n",
    "\n",
    "print(\"AYO HITUNG BMI KAMU!\")\n",
    "#inputan user\n",
    "berat_badan = float(input(\"Berat badan: \"))\n",
    "tinggi_badan = float(input(\"Tinggi badan: \"))\n",
    "\n",
    "#membuat prcabangan\n",
    "def rumus_BMI(berat_badan, tinggi_badan):\n",
    "    tinggi_badan = tinggi_badan/100\n",
    "    bmi = berat_badan/(tinggi_badan **2)\n",
    "    return bmi\n",
    "\n",
    "def klasifikasi_bmi(bmi):\n",
    "    if bmi < 18.5:\n",
    "        return \"Kurang Berat Badan, sebaiknya kamu harus menambah vitamin untuk nafsu makan!\"\n",
    "    elif bmi < 25:\n",
    "        return \"Normal tetap jaga pola makan ya!\"\n",
    "    elif bmi < 30:\n",
    "        return \"Kelebihan berat badan, kamu harus kurangi makanan yang berlemak!\"\n",
    "    else:\n",
    "        return \"Obesitas, anda harus komitmen untuk mengatur ulang pola makannya!\"\n",
    "#menghitung hasil BMI\n",
    "bmi = rumus_BMI(berat_badan, tinggi_badan)\n",
    "print(\"BMI anda: \", bmi)\n",
    "print(\"Klasifikasi BMI: \", klasifikasi_bmi(bmi))\n",
    "\n",
    "\n",
    "2#Fungsi f(x)\n",
    "print(\"Menghitung Fungsi f(X)\")\n",
    "def hitung_fungsi(x):\n",
    "    hasil = 2 * x**3 + 2* x + 15 / x\n",
    "    return hasil\n",
    "x = int(input(\"Masukan sebuah angka bilangan bulat : \"))\n",
    "hasil = hitung_fungsi(x)\n",
    "print(\"Hasil hitung dari fungsi f(x) = \", hasil)\n",
    "\n",
    "3# Program Hitung pendapatan dan Pengeluaran Budi\n",
    "gaji_perjam = int(input(\"Masukan Gaji per jam yang anda inginkan : \"))\n",
    "jumlah_jamkerja_perminggu = int(input(\"Masukan Jumlah jam kerja yang akan dilakukan dalam 1 minggu : \"))\n",
    "\n",
    "def hitung_gaji(gaji_perjam, jumlah_jamkerja_perminggu):\n",
    "    awal_pendapatan_gaji = gaji_perjam * jumlah_jamkerja_perminggu * 5\n",
    "    pajak = 0.14 * awal_pendapatan_gaji\n",
    "    gaji_habis_pajak = awal_pendapatan_gaji - pajak\n",
    "    pengeluaran_BajudanAksesoris = 0.10 * gaji_habis_pajak\n",
    "    pengeluaran_AT = 0.01 * gaji_habis_pajak\n",
    "    sisa_uang = gaji_habis_pajak - pengeluaran_BajudanAksesoris - pengeluaran_AT\n",
    "    sedekah = 0.25 * sisa_uang\n",
    "    anak_yatim = 0.30 * sedekah\n",
    "    kaum_dhufa = 0.70 * sedekah\n",
    "    \n",
    "    return awal_pendapatan_gaji, gaji_habis_pajak, pengeluaran_BajudanAksesoris, pengeluaran_AT, sedekah, anak_yatim, kaum_dhufa\n",
    "\n",
    "# Memanggil fungsi hitung_gaji\n",
    "awal_pendapatan_gaji, gaji_habis_pajak, pengeluaran_BajudanAksesoris, pengeluaran_AT, sedekah, anak_yatim, kaum_dhufa = hitung_gaji(gaji_perjam, jumlah_jamkerja_perminggu)\n",
    "\n",
    "# Mencetak hasil\n",
    "print(\"Pendapatan Budi selama libur musim panas sebelum melakukan pembayaran pajak : \", awal_pendapatan_gaji)\n",
    "print(\"Pendapatan Budi selama libur musim panas setelah melakukan pembayaran pajak : \", gaji_habis_pajak)\n",
    "print(\"Jumlah uang yang akan Budi habiskan untuk membeli pakaian dan aksesoris     : \", pengeluaran_BajudanAksesoris)\n",
    "print(\"Jumlah uang yang akan Budi habiskan untuk membeli alat tulis                : \", pengeluaran_AT)\n",
    "print(\"Jumlah uang yang akan Budi sedekahkan                                       : \", sedekah)\n",
    "print(\"Jumlah uang yang akan diterima anak yatim                                   : \", anak_yatim)\n",
    "print(\"Jumlah uang yang akan diterima kaum dhuafa                                  : \", kaum_dhufa)\n",
    "    \n",
    "\n",
    "\n",
    "\n",
    "\n",
    "\n",
    "\n",
    "\n",
    "\n"
   ]
  }
 ],
 "metadata": {
  "kernelspec": {
   "display_name": "Python 3",
   "language": "python",
   "name": "python3"
  },
  "language_info": {
   "codemirror_mode": {
    "name": "ipython",
    "version": 3
   },
   "file_extension": ".py",
   "mimetype": "text/x-python",
   "name": "python",
   "nbconvert_exporter": "python",
   "pygments_lexer": "ipython3",
   "version": "3.11.4"
  }
 },
 "nbformat": 4,
 "nbformat_minor": 2
}
